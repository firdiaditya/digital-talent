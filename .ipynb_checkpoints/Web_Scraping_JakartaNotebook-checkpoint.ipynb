{
 "cells": [
  {
   "cell_type": "code",
   "execution_count": 5,
   "metadata": {},
   "outputs": [
    {
     "name": "stdout",
     "output_type": "stream",
     "text": [
      "<class 'bytes'>\n",
      "b'!DOCTYPE html>\\n<html lang=\"id-ID\">\\n\\n<head>\\n    <meta charset=\"utf-8\">\\n    <meta http-equiv=\"X-UA-Compatible\" content=\"IE=edge,chrome=1\">\\n        <link rel=\"canonical\" href=\"https://www.bhinneka.com/search.aspx\" />\\n    <title>404</title>\\n    <meta title=\"404\">\\n    <meta name=\"description\" content=\"\">\\n    <meta name=\"robots\" content=\"NOINDEX, FOLLOW, NOODP, NOYDIR\">\\n    <!-- <meta name=\"twitter:title\" content=\"404\">\\n    <meta name=\"twitter:url\" content=\"\">\\n    <meta name=\"twitter:description\" content=\"\">\\n    <meta name=\"twitter:image\" content=\"\">\\n    <meta property=\"og:title\" content=\"404\">\\n    <meta property=\"og:url\" content=\"\">\\n    <meta property=\"og:type\" content=\"product\">\\n    <meta property=\"og:description\" content=\"\">\\n    <meta property=\"og:image\" content=\"\">\\n    <meta property=\"og:site_name\" content=\"Bhinneka.com\"> -->\\n        <meta name=\"keywords\" content=\"404\">\\n    <meta name=\"viewport\" content=\"width=device-width, maximum-scale=1, minimum-scale=1, user-scalable=no\">\\n    <!-- F'\n"
     ]
    }
   ],
   "source": [
    "from urllib.request import urlopen\n",
    "keyword = \"iphone\"\n",
    "html = urlopen(\"http://www.bhinneka.com/search.aspx?Search=\"+keyword).read()\n",
    "print(type(html))\n",
    "print(html[1:1000])"
   ]
  },
  {
   "cell_type": "code",
   "execution_count": 6,
   "metadata": {},
   "outputs": [
    {
     "name": "stdout",
     "output_type": "stream",
     "text": [
      "<class 'bs4.BeautifulSoup'>\n",
      "!DOCTYPE html>\n",
      "<html lang=\"id-ID\">\n",
      " <head>\n",
      "  <meta charset=\"utf-8\"/>\n",
      "  <meta content=\"IE=edge,chrome=1\" http-equiv=\"X-UA-Compatible\"/>\n",
      "  <link href=\"https://www.bhinneka.com/search.aspx\" rel=\"canonical\"/>\n",
      "  <title>\n",
      "   404\n",
      "  </title>\n",
      "  <meta title=\"404\"/>\n",
      "  <meta content=\"\" name=\"description\"/>\n",
      "  <meta content=\"NOINDEX, FOLLOW, NOODP, NOYDIR\" name=\"robots\"/>\n",
      "  <!-- <meta name=\"twitter:title\" content=\"404\">\n",
      "    <meta name=\"twitter:url\" content=\"\">\n",
      "    <meta name=\"twitter:description\" content=\"\">\n",
      "    <meta name=\"twitter:image\" content=\"\">\n",
      "    <meta property=\"og:title\" content=\"404\">\n",
      "    <meta property=\"og:url\" content=\"\">\n",
      "    <meta property=\"og:type\" content=\"product\">\n",
      "    <meta property=\"og:description\" content=\"\">\n",
      "    <meta property=\"og:image\" content=\"\">\n",
      "    <meta property=\"og:site_name\" content=\"Bhinneka.com\"> -->\n",
      "  <meta content=\"404\" name=\"keywords\"/>\n",
      "  <meta content=\"width=device-width, maximum-scale=1, minimum-scale=1, user-scalable=no\" name=\"viewport\"/>\n",
      "  <!-- Favicon-->\n",
      "  <link\n"
     ]
    }
   ],
   "source": [
    "from bs4 import BeautifulSoup\n",
    "soup = BeautifulSoup(html, \"lxml\")\n",
    "print(type(soup))\n",
    "print(soup.prettify()[1:1000])"
   ]
  },
  {
   "cell_type": "code",
   "execution_count": 20,
   "metadata": {},
   "outputs": [],
   "source": [
    "produk = soup.find_all(\"li\",\"prod-itm\")\n",
    "for p in produk:\n",
    "   \n",
    "    print (p.find('span','prod-itm-fullname').get_text())\n",
    "    print (p.find('span','prod-itm-price').get_text())"
   ]
  },
  {
   "cell_type": "code",
   "execution_count": 21,
   "metadata": {},
   "outputs": [
    {
     "data": {
      "text/html": [
       "<div>\n",
       "<style scoped>\n",
       "    .dataframe tbody tr th:only-of-type {\n",
       "        vertical-align: middle;\n",
       "    }\n",
       "\n",
       "    .dataframe tbody tr th {\n",
       "        vertical-align: top;\n",
       "    }\n",
       "\n",
       "    .dataframe thead th {\n",
       "        text-align: right;\n",
       "    }\n",
       "</style>\n",
       "<table border=\"1\" class=\"dataframe\">\n",
       "  <thead>\n",
       "    <tr style=\"text-align: right;\">\n",
       "      <th></th>\n",
       "      <th>nama</th>\n",
       "      <th>harga</th>\n",
       "    </tr>\n",
       "  </thead>\n",
       "  <tbody>\n",
       "  </tbody>\n",
       "</table>\n",
       "</div>"
      ],
      "text/plain": [
       "Empty DataFrame\n",
       "Columns: [nama, harga]\n",
       "Index: []"
      ]
     },
     "execution_count": 21,
     "metadata": {},
     "output_type": "execute_result"
    }
   ],
   "source": [
    "import pandas as pd\n",
    "\n",
    "nama_produk = []\n",
    "harga_produk = []\n",
    "\n",
    "produk = soup.find_all(\"li\",\"prod-itm\")\n",
    "\n",
    "for p in produk:\n",
    "    nama = p.find('span','prod-itm-fullname').get_text().encode('utf-8')\n",
    "    harga = p.find('span','prod-itm-price').get_text().encode('utf-8')\n",
    "    nama_produk.append(nama)\n",
    "    harga_produk.append(harga.replace(\"Rp\",\"\"))\n",
    "\n",
    "produk_dict = {'nama':nama_produk,'harga':harga_produk}\n",
    "df = pd.DataFrame(produk_dict,columns = ['nama','harga'])\n",
    "\n",
    "df.sort_values('harga')"
   ]
  },
  {
   "cell_type": "code",
   "execution_count": null,
   "metadata": {},
   "outputs": [],
   "source": []
  }
 ],
 "metadata": {
  "kernelspec": {
   "display_name": "Python 3",
   "language": "python",
   "name": "python3"
  },
  "language_info": {
   "codemirror_mode": {
    "name": "ipython",
    "version": 3
   },
   "file_extension": ".py",
   "mimetype": "text/x-python",
   "name": "python",
   "nbconvert_exporter": "python",
   "pygments_lexer": "ipython3",
   "version": "3.7.0"
  }
 },
 "nbformat": 4,
 "nbformat_minor": 2
}
