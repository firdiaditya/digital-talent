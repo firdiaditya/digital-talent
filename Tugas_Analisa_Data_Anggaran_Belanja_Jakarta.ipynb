{
 "cells": [
  {
   "cell_type": "code",
   "execution_count": 19,
   "metadata": {},
   "outputs": [],
   "source": [
    "import pandas as pd\n",
    "data_belanja = pd.read_csv('data-anggaran-jakarta-belanja-langsung.csv', delimiter = ',', encoding = \"ISO-8859-1\")"
   ]
  },
  {
   "cell_type": "markdown",
   "metadata": {},
   "source": [
    "### Deskripsi Data"
   ]
  },
  {
   "cell_type": "code",
   "execution_count": 20,
   "metadata": {},
   "outputs": [
    {
     "data": {
      "text/plain": [
       "Index(['Komisi', 'SKPDID', 'SKPD Kode', 'Belanja', 'Nama_SKPD', 'ID_Kegiatan',\n",
       "       'Kegiatan', 'Nilai_Anggaran'],\n",
       "      dtype='object')"
      ]
     },
     "execution_count": 20,
     "metadata": {},
     "output_type": "execute_result"
    }
   ],
   "source": [
    "data_belanja.columns"
   ]
  },
  {
   "cell_type": "code",
   "execution_count": 21,
   "metadata": {},
   "outputs": [
    {
     "data": {
      "text/plain": [
       "Komisi            85673\n",
       "SKPDID            85673\n",
       "SKPD Kode         85673\n",
       "Belanja           85673\n",
       "Nama_SKPD         85673\n",
       "ID_Kegiatan       85673\n",
       "Kegiatan          85673\n",
       "Nilai_Anggaran    85673\n",
       "dtype: int64"
      ]
     },
     "execution_count": 21,
     "metadata": {},
     "output_type": "execute_result"
    }
   ],
   "source": [
    "data_belanja.count()"
   ]
  },
  {
   "cell_type": "code",
   "execution_count": 22,
   "metadata": {},
   "outputs": [
    {
     "data": {
      "text/html": [
       "<div>\n",
       "<style scoped>\n",
       "    .dataframe tbody tr th:only-of-type {\n",
       "        vertical-align: middle;\n",
       "    }\n",
       "\n",
       "    .dataframe tbody tr th {\n",
       "        vertical-align: top;\n",
       "    }\n",
       "\n",
       "    .dataframe thead th {\n",
       "        text-align: right;\n",
       "    }\n",
       "</style>\n",
       "<table border=\"1\" class=\"dataframe\">\n",
       "  <thead>\n",
       "    <tr style=\"text-align: right;\">\n",
       "      <th></th>\n",
       "      <th>Komisi</th>\n",
       "      <th>SKPDID</th>\n",
       "      <th>SKPD Kode</th>\n",
       "      <th>Belanja</th>\n",
       "      <th>Nama_SKPD</th>\n",
       "      <th>ID_Kegiatan</th>\n",
       "      <th>Kegiatan</th>\n",
       "      <th>Nilai_Anggaran</th>\n",
       "    </tr>\n",
       "  </thead>\n",
       "  <tbody>\n",
       "    <tr>\n",
       "      <th>60931</th>\n",
       "      <td>1</td>\n",
       "      <td>597</td>\n",
       "      <td>1.20.245</td>\n",
       "      <td>Belanja Barang Jasa</td>\n",
       "      <td>Kelurahan Kuningan Timur - JAKSEL</td>\n",
       "      <td>52785</td>\n",
       "      <td>Pengembangan wawasan staff</td>\n",
       "      <td>5125000.0</td>\n",
       "    </tr>\n",
       "    <tr>\n",
       "      <th>46601</th>\n",
       "      <td>1</td>\n",
       "      <td>465</td>\n",
       "      <td>1.20.102</td>\n",
       "      <td>Belanja Pegawai</td>\n",
       "      <td>Kelurahan Rawa Badak Selatan - JAKUT</td>\n",
       "      <td>32971</td>\n",
       "      <td>Pendataan RW Siaga</td>\n",
       "      <td>4802000.0</td>\n",
       "    </tr>\n",
       "    <tr>\n",
       "      <th>62985</th>\n",
       "      <td>1</td>\n",
       "      <td>618</td>\n",
       "      <td>1.20.270</td>\n",
       "      <td>Belanja Barang Jasa</td>\n",
       "      <td>Kecamatan Pasar Rebo - JAKTIM</td>\n",
       "      <td>65835</td>\n",
       "      <td>Penyusunan Rencana Kerja dan Anggaran (RKA) Ke...</td>\n",
       "      <td>9058000.0</td>\n",
       "    </tr>\n",
       "    <tr>\n",
       "      <th>1392</th>\n",
       "      <td>1</td>\n",
       "      <td>17</td>\n",
       "      <td>1.06.001</td>\n",
       "      <td>Belanja Pegawai</td>\n",
       "      <td>BADAN PERENCANAAN PEMBANGUNAN DAERAH</td>\n",
       "      <td>55834</td>\n",
       "      <td>Koordinasi Perencanaan Bidang Keuangan</td>\n",
       "      <td>68880000.0</td>\n",
       "    </tr>\n",
       "    <tr>\n",
       "      <th>37096</th>\n",
       "      <td>1</td>\n",
       "      <td>392</td>\n",
       "      <td>1.20.024</td>\n",
       "      <td>Belanja Barang Jasa</td>\n",
       "      <td>Kelurahan Bendungan Hilir - JAKPUS</td>\n",
       "      <td>21452</td>\n",
       "      <td>Penyusunan Laporan Kegiatan Kelurahan ( Lap. B...</td>\n",
       "      <td>24000000.0</td>\n",
       "    </tr>\n",
       "    <tr>\n",
       "      <th>35647</th>\n",
       "      <td>5</td>\n",
       "      <td>380</td>\n",
       "      <td>1.01.003</td>\n",
       "      <td>Belanja Barang Jasa</td>\n",
       "      <td>Planetarium dam Observatorium</td>\n",
       "      <td>53087</td>\n",
       "      <td>Perawatan Sound System</td>\n",
       "      <td>39220000.0</td>\n",
       "    </tr>\n",
       "    <tr>\n",
       "      <th>66364</th>\n",
       "      <td>1</td>\n",
       "      <td>653</td>\n",
       "      <td>1.20.305</td>\n",
       "      <td>Belanja Barang Jasa</td>\n",
       "      <td>Kecamatan Jatinegara - JAKTIM</td>\n",
       "      <td>5941</td>\n",
       "      <td>Pengurasan/Pengerukan Saluran Air di  Jl. Beka...</td>\n",
       "      <td>44750000.0</td>\n",
       "    </tr>\n",
       "    <tr>\n",
       "      <th>55428</th>\n",
       "      <td>1</td>\n",
       "      <td>540</td>\n",
       "      <td>1.20.182</td>\n",
       "      <td>Belanja Pegawai</td>\n",
       "      <td>Kelurahan Keagungan - JAKBAR</td>\n",
       "      <td>3733</td>\n",
       "      <td>Pengadaan Sarana dan Prasarana Umum</td>\n",
       "      <td>1030000.0</td>\n",
       "    </tr>\n",
       "    <tr>\n",
       "      <th>82033</th>\n",
       "      <td>2</td>\n",
       "      <td>1053</td>\n",
       "      <td>2.07.001</td>\n",
       "      <td>Belanja Pegawai</td>\n",
       "      <td>DINAS PERINDUSTRIAN DAN ENERGI</td>\n",
       "      <td>37134</td>\n",
       "      <td>Gelar Produk IKM pada IKM Expo</td>\n",
       "      <td>11000000.0</td>\n",
       "    </tr>\n",
       "    <tr>\n",
       "      <th>72814</th>\n",
       "      <td>2</td>\n",
       "      <td>739</td>\n",
       "      <td>1.17.022</td>\n",
       "      <td>Belanja Barang Jasa</td>\n",
       "      <td>Balai Latihan Kesenian Jakbar</td>\n",
       "      <td>23835</td>\n",
       "      <td>Pelatihan Kesenian Tingkat Dasar Bagi Guru SD</td>\n",
       "      <td>41500000.0</td>\n",
       "    </tr>\n",
       "  </tbody>\n",
       "</table>\n",
       "</div>"
      ],
      "text/plain": [
       "       Komisi  SKPDID SKPD Kode              Belanja  \\\n",
       "60931       1     597  1.20.245  Belanja Barang Jasa   \n",
       "46601       1     465  1.20.102      Belanja Pegawai   \n",
       "62985       1     618  1.20.270  Belanja Barang Jasa   \n",
       "1392        1      17  1.06.001      Belanja Pegawai   \n",
       "37096       1     392  1.20.024  Belanja Barang Jasa   \n",
       "35647       5     380  1.01.003  Belanja Barang Jasa   \n",
       "66364       1     653  1.20.305  Belanja Barang Jasa   \n",
       "55428       1     540  1.20.182      Belanja Pegawai   \n",
       "82033       2    1053  2.07.001      Belanja Pegawai   \n",
       "72814       2     739  1.17.022  Belanja Barang Jasa   \n",
       "\n",
       "                                  Nama_SKPD  ID_Kegiatan  \\\n",
       "60931     Kelurahan Kuningan Timur - JAKSEL        52785   \n",
       "46601  Kelurahan Rawa Badak Selatan - JAKUT        32971   \n",
       "62985         Kecamatan Pasar Rebo - JAKTIM        65835   \n",
       "1392   BADAN PERENCANAAN PEMBANGUNAN DAERAH        55834   \n",
       "37096    Kelurahan Bendungan Hilir - JAKPUS        21452   \n",
       "35647         Planetarium dam Observatorium        53087   \n",
       "66364         Kecamatan Jatinegara - JAKTIM         5941   \n",
       "55428          Kelurahan Keagungan - JAKBAR         3733   \n",
       "82033        DINAS PERINDUSTRIAN DAN ENERGI        37134   \n",
       "72814         Balai Latihan Kesenian Jakbar        23835   \n",
       "\n",
       "                                                Kegiatan  Nilai_Anggaran  \n",
       "60931                         Pengembangan wawasan staff       5125000.0  \n",
       "46601                                 Pendataan RW Siaga       4802000.0  \n",
       "62985  Penyusunan Rencana Kerja dan Anggaran (RKA) Ke...       9058000.0  \n",
       "1392              Koordinasi Perencanaan Bidang Keuangan      68880000.0  \n",
       "37096  Penyusunan Laporan Kegiatan Kelurahan ( Lap. B...      24000000.0  \n",
       "35647                             Perawatan Sound System      39220000.0  \n",
       "66364  Pengurasan/Pengerukan Saluran Air di  Jl. Beka...      44750000.0  \n",
       "55428                Pengadaan Sarana dan Prasarana Umum       1030000.0  \n",
       "82033                     Gelar Produk IKM pada IKM Expo      11000000.0  \n",
       "72814      Pelatihan Kesenian Tingkat Dasar Bagi Guru SD      41500000.0  "
      ]
     },
     "execution_count": 22,
     "metadata": {},
     "output_type": "execute_result"
    }
   ],
   "source": [
    "data_belanja.sample(10)"
   ]
  },
  {
   "cell_type": "markdown",
   "metadata": {},
   "source": [
    "### Statistik tentang data"
   ]
  },
  {
   "cell_type": "code",
   "execution_count": 25,
   "metadata": {},
   "outputs": [
    {
     "name": "stdout",
     "output_type": "stream",
     "text": [
      "Total Anggaran Belanja Jakarta Rp  31609906129663.0\n",
      "Nilai Anggaran Belanja Minimum Jakarta Rp  30000.0\n",
      "Nilai Anggaran Belanja Maximum Jakarta Rp  1500000000000.0\n"
     ]
    }
   ],
   "source": [
    "Total_Belanja = data_belanja.Nilai_Anggaran.sum()\n",
    "Nilai_Min_Belanja = data_belanja. Nilai_Anggaran .min()\n",
    "Nilai_Max_Belanja = data_belanja. Nilai_Anggaran .max()\n",
    "\n",
    "print(\"Total Anggaran Belanja Jakarta Rp \",Total_Belanja)\n",
    "print(\"Nilai Anggaran Belanja Minimum Jakarta Rp \",Nilai_Min_Belanja)\n",
    "print(\"Nilai Anggaran Belanja Maximum Jakarta Rp \",Nilai_Max_Belanja)"
   ]
  },
  {
   "cell_type": "markdown",
   "metadata": {},
   "source": [
    "### Visualisasi Sederhana"
   ]
  },
  {
   "cell_type": "code",
   "execution_count": 28,
   "metadata": {},
   "outputs": [
    {
     "data": {
      "text/plain": [
       "Text(0,0.5,'Nilai_Anggaran')"
      ]
     },
     "execution_count": 28,
     "metadata": {},
     "output_type": "execute_result"
    },
    {
     "data": {
      "image/png": "[encoded data removed]",
      "text/plain": [
       "<Figure size 432x288 with 1 Axes>"
      ]
     },
     "metadata": {
      "needs_background": "light"
     },
     "output_type": "display_data"
    }
   ],
   "source": [
    "ax = data_belanja.groupby('Komisi').mean()['Nilai_Anggaran']\n",
    "ax = ax.plot(kind='bar', title =\"Rata-Rata Berdasarkan Komisi\", legend=True, fontsize=12)\n",
    "ax.set_xlabel(\"Komisi\", fontsize=12)\n",
    "ax.set_ylabel(\"Nilai_Anggaran\", fontsize=12)"
   ]
  },
  {
   "cell_type": "code",
   "execution_count": 29,
   "metadata": {},
   "outputs": [
    {
     "data": {
      "text/plain": [
       "Text(0,0.5,'Nilai_Anggaran')"
      ]
     },
     "execution_count": 29,
     "metadata": {},
     "output_type": "execute_result"
    },
    {
     "data": {
      "image/png": "[encoded data removed]",
      "text/plain": [
       "<Figure size 432x288 with 1 Axes>"
      ]
     },
     "metadata": {
      "needs_background": "light"
     },
     "output_type": "display_data"
    }
   ],
   "source": [
    "ax = data_belanja.groupby('Belanja').mean()['Nilai_Anggaran']\n",
    "ax = ax.plot(kind='bar', title =\"Rata-Rata Berdasarkan Jenis Belanja\", legend=True, fontsize=12)\n",
    "ax.set_xlabel(\"Belanja\", fontsize=12)\n",
    "ax.set_ylabel(\"Nilai_Anggaran\", fontsize=12)"
   ]
  },
  {
   "cell_type": "markdown",
   "metadata": {},
   "source": [
    "### Kesimpulan  \n",
    "  Dari data anggaran belanja langsung provinsi DKI Jakarta memiliki total belanja sebesar Rp  31.609.906.129.663 yang dibagi berdasarkan Komisi, SKPDID, SKPD Kode, Belanja, Nama_SKPD, ID_Kegiatan, dan Kegiatan. Dari hasil visualisasinya belanja terbesar berada pada komisi 4 yang bergerak di bidang Pertanian, Pangan, Maritim dan Kehutanan serta di posisi kedua ada komisi 5 yang bergerak di bidang infrastruktur dan perhubungan. Namun serapan belanja ini sebagai Modal dari sisi pangan dan infrastruktur pembangunan untuk investasi di masa depan. \n"
   ]
  },
  {
   "cell_type": "code",
   "execution_count": null,
   "metadata": {},
   "outputs": [],
   "source": []
  }
 ],
 "metadata": {
  "kernelspec": {
   "display_name": "Python 3",
   "language": "python",
   "name": "python3"
  },
  "language_info": {
   "codemirror_mode": {
    "name": "ipython",
    "version": 3
   },
   "file_extension": ".py",
   "mimetype": "text/x-python",
   "name": "python",
   "nbconvert_exporter": "python",
   "pygments_lexer": "ipython3",
   "version": "3.7.0"
  }
 },
 "nbformat": 4,
 "nbformat_minor": 2
}
