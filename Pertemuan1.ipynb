{
 "cells": [
  {
   "cell_type": "markdown",
   "metadata": {},
   "source": [
    "# 1. Sintaks Dasar\n",
    "Print digunakan untuk mengeluarkan output pada layar"
   ]
  },
  {
   "cell_type": "code",
   "execution_count": 1,
   "metadata": {},
   "outputs": [
    {
     "name": "stdout",
     "output_type": "stream",
     "text": [
      "Hello World\n"
     ]
    }
   ],
   "source": [
    "print (\"Hello World\")"
   ]
  },
  {
   "cell_type": "code",
   "execution_count": 3,
   "metadata": {},
   "outputs": [
    {
     "name": "stdout",
     "output_type": "stream",
     "text": [
      "25\n",
      "3125\n"
     ]
    }
   ],
   "source": [
    "a = 5\n",
    "b= 5\n",
    "print (a*b)\n",
    "print(a**b)\n"
   ]
  },
  {
   "cell_type": "markdown",
   "metadata": {},
   "source": [
    "## Variabel\n",
    "Variabel adalah tempat menyimpan nilai sementara. Berikut adalah cara mendeklarasikan, menginisialisasi variabel dan memanggil variabel dalam python:"
   ]
  },
  {
   "cell_type": "code",
   "execution_count": 4,
   "metadata": {},
   "outputs": [
    {
     "name": "stdout",
     "output_type": "stream",
     "text": [
      "Aditya Firdi R\n"
     ]
    }
   ],
   "source": [
    "nama = \"Aditya Firdi R\"\n",
    "print(nama)"
   ]
  },
  {
   "cell_type": "markdown",
   "metadata": {},
   "source": [
    "Nilai dalam variabel dapat diubah sewaktu waktu"
   ]
  },
  {
   "cell_type": "code",
   "execution_count": 5,
   "metadata": {},
   "outputs": [
    {
     "name": "stdout",
     "output_type": "stream",
     "text": [
      "Aditya Nur H\n"
     ]
    }
   ],
   "source": [
    "nama = \"Aditya Firdi R\"\n",
    "nama = \"Aditya Nur H\"\n",
    "print (nama)"
   ]
  },
  {
   "cell_type": "markdown",
   "metadata": {},
   "source": [
    "Kita juga bisa memberikan beberapa nilai pada variabel secara langsung"
   ]
  },
  {
   "cell_type": "code",
   "execution_count": 6,
   "metadata": {},
   "outputs": [
    {
     "name": "stdout",
     "output_type": "stream",
     "text": [
      "5\n",
      "3.2\n",
      "Hello\n"
     ]
    }
   ],
   "source": [
    "a, b, c = 5, 3.2, \"Hello\"\n",
    "print (a)\n",
    "print (b)\n",
    "print (c)"
   ]
  },
  {
   "cell_type": "code",
   "execution_count": 7,
   "metadata": {},
   "outputs": [
    {
     "name": "stdout",
     "output_type": "stream",
     "text": [
      "podo\n",
      "podo\n",
      "podo\n"
     ]
    }
   ],
   "source": [
    "x = y = z = \"podo\"\n",
    "print (x)\n",
    "print (y)\n",
    "print (z)"
   ]
  },
  {
   "cell_type": "markdown",
   "metadata": {},
   "source": [
    "## Tipe Data\n",
    "Dalam setiap nilai di variabel, terdapat sebuah tipe data tertentu. Pada python, terdapat beberapa tipe data:\n"
   ]
  },
  {
   "cell_type": "markdown",
   "metadata": {},
   "source": [
    "### Number"
   ]
  },
  {
   "cell_type": "code",
   "execution_count": 8,
   "metadata": {},
   "outputs": [
    {
     "name": "stdout",
     "output_type": "stream",
     "text": [
      "5 mempunyai tipe <class 'int'>\n"
     ]
    }
   ],
   "source": [
    "a = 5\n",
    "print (a, \"mempunyai tipe\",type (a))\n"
   ]
  },
  {
   "cell_type": "code",
   "execution_count": 9,
   "metadata": {},
   "outputs": [
    {
     "name": "stdout",
     "output_type": "stream",
     "text": [
      "2.0 mempunyai tipe <class 'float'>\n"
     ]
    }
   ],
   "source": [
    "a = 2.0\n",
    "print (a, \"mempunyai tipe\",type(a))"
   ]
  },
  {
   "cell_type": "markdown",
   "metadata": {},
   "source": [
    "### Boolean"
   ]
  },
  {
   "cell_type": "code",
   "execution_count": 11,
   "metadata": {},
   "outputs": [
    {
     "name": "stdout",
     "output_type": "stream",
     "text": [
      "False mempunyai tipe <class 'bool'>\n"
     ]
    }
   ],
   "source": [
    "a = 5>6\n",
    "print (a, \"mempunyai tipe\", type (a))"
   ]
  },
  {
   "cell_type": "code",
   "execution_count": 12,
   "metadata": {},
   "outputs": [
    {
     "name": "stdout",
     "output_type": "stream",
     "text": [
      "True mempunyai type <class 'bool'>\n"
     ]
    }
   ],
   "source": [
    "a = 6>5\n",
    "print (a, \"mempunyai type\", type(a))"
   ]
  },
  {
   "cell_type": "markdown",
   "metadata": {},
   "source": [
    "### String"
   ]
  },
  {
   "cell_type": "code",
   "execution_count": 13,
   "metadata": {},
   "outputs": [
    {
     "name": "stdout",
     "output_type": "stream",
     "text": [
      "Ini adalah sebuah string mempunyai type <class 'str'>\n"
     ]
    }
   ],
   "source": [
    "a = \"Ini adalah sebuah string\"\n",
    "print (a, \"mempunyai type\", type(a))"
   ]
  },
  {
   "cell_type": "markdown",
   "metadata": {},
   "source": [
    "### Latihan 1\n",
    "Pada keluaran buku terbaru, Harry Potter harga buku adalah Rp 100.000, tetapi toko buku mendapatkan diskon 40%. Pengiriman biaya Rp 9.000 untuk salinan pertama dan Rp 3.000 untuk setiap salinan tambahan. Berapa total biaya keseluruhan untuk pengiriman buku 60 eksemplar?"
   ]
  },
  {
   "cell_type": "markdown",
   "metadata": {},
   "source": [
    "Identifikasi Variabel=\n",
    "- Harga Buku\n",
    "- Diskon\n",
    "- Ongkir Pertama\n",
    "- Ongkir Selanjutnya\n",
    "- Jumlah Order\n",
    "- total biaya\n",
    "\n",
    "Algoritma\n",
    "- Harga Total = Harga Buku * Diskon * Jumlah Order + Ongkir Pertama + Ongkir Kedua + .....\n",
    "\n"
   ]
  },
  {
   "cell_type": "code",
   "execution_count": 30,
   "metadata": {},
   "outputs": [
    {
     "name": "stdout",
     "output_type": "stream",
     "text": [
      "60000.0\n",
      "9000\n",
      "3000\n",
      "186000\n",
      "3600000.0\n",
      "3786000.0\n"
     ]
    }
   ],
   "source": [
    "Harga = 100000\n",
    "Diskon = 40\n",
    "HargaSetelahDiskon = Harga - (Harga * Diskon / 100)\n",
    "JumlahOrder = 60\n",
    "OngkirPertama = 9000\n",
    "OngkirKedua = 3000\n",
    "TotalPembelian = HargaSetelahDiskon*JumlahOrder\n",
    "TotalOngkir = OngkirPertama+OngkirKedua * (JumlahOrder-1)\n",
    "\n",
    "print (HargaSetelahDiskon)\n",
    "print (OngkirPertama)\n",
    "print (OngkirKedua)\n",
    "print (TotalOngkir)\n",
    "print (TotalPembelian)\n",
    "print (TotalPembelian+TotalOngkir)"
   ]
  },
  {
   "cell_type": "code",
   "execution_count": 38,
   "metadata": {},
   "outputs": [
    {
     "name": "stdout",
     "output_type": "stream",
     "text": [
      "Anda masih dalam waiting list\n",
      "Program Selesai\n"
     ]
    }
   ],
   "source": [
    "nilai = 81 # Coba diganti2 nilai nya\n",
    "if nilai>90:\n",
    "    print(\"Lulus\")\n",
    "    print(\"Selamat\")\n",
    "elif nilai>80:\n",
    "    print(\"Anda masih dalam waiting list\")\n",
    "else :\n",
    "    print (\"Maaf anda belum lulus\")\n",
    "    \n",
    "print(\"Program Selesai\")"
   ]
  },
  {
   "cell_type": "markdown",
   "metadata": {},
   "source": [
    "### Latihan 2"
   ]
  },
  {
   "cell_type": "markdown",
   "metadata": {},
   "source": [
    "Body Mass Index (BMI) menentukan sebuah keidealan berat badan terhadap tinggi badan. Berikut adalah formula dari BMI : BMI = weight (kg) ÷ height^2 (m^2)\n",
    "\n",
    "Berikut adalah kategorisasi BMI\n",
    "\n",
    "BMI\tKategori BMI\t\n",
    "Kurang dari 15\tVery severely underweight\t\n",
    "Diantara 15 dan 16\tSeverely underweight\t\n",
    "Diantara 16 dan 18.5\tUnderweight\t\n",
    "Diantara 18.5 dan 25\tNormal (healthy weight)\t\n",
    "Diantara 25 dan 30\tOverweight\t\n",
    "Diantara 30 dan 35\tModerately obese\t\n",
    "Diantara 35 dan 40\tSeverely obese\t\n",
    "Over 40\tVery severely obese\n",
    "\n",
    "Buatlah sebuah program yang memiliki dua variabel berat badan dengan satuan KG, dan tinggi badan dengan satuan CM, kemudian keluaran dari program adalah Kategori BMI"
   ]
  },
  {
   "cell_type": "code",
   "execution_count": 11,
   "metadata": {},
   "outputs": [
    {
     "name": "stdout",
     "output_type": "stream",
     "text": [
      "Berat badan anda 80 kg\n",
      "Tinggi badan anda 174 cm\n",
      "Nilai BMI Anda adalah :  26.42356982428326\n",
      "Anda termasuk kategori Overweight\n"
     ]
    }
   ],
   "source": [
    "weight = 80   # Masukan nilai nya\n",
    "height = 174  # Masukan nilai nya\n",
    "\n",
    "BMI = weight / ((height/100) ** 2)\n",
    "\n",
    "print (\"Berat badan anda\", weight, \"kg\")\n",
    "print (\"Tinggi badan anda\", height, \"cm\")\n",
    "print (\"Nilai BMI Anda adalah : \", BMI)\n",
    "\n",
    "if BMI < 15:\n",
    "        print(\"Anda termasuk kategori\", \"Very severely underweight\")\n",
    "elif 15 <= BMI < 16:\n",
    "        print(\"Anda termasuk kategori\", \"Severely underweight\")\n",
    "elif 16 <= BMI < 18.5:\n",
    "        print(\"Anda termasuk kategori\", \"Underweight\")\n",
    "elif 18.5 <= BMI < 25:\n",
    "        print(\"Anda termasuk kategori\", \"Normal (healthy weight)\")\n",
    "elif 25 <= BMI < 30:\n",
    "        print(\"Anda termasuk kategori\", \"Overweight\")\n",
    "elif 30 <= BMI < 35:\n",
    "        print(\"Anda termasuk kategori\", \"Moderately obese\")\n",
    "elif 35 <= BMI < 40:\n",
    "        print(\"Anda termasuk kategori\", \"Severely obese\")\n",
    "else: \n",
    "        print(\"Anda termasuk kategori\", \"Very severely obese\")\n",
    "\n",
    "\n",
    "  \n",
    "   "
   ]
  },
  {
   "cell_type": "code",
   "execution_count": null,
   "metadata": {},
   "outputs": [],
   "source": []
  },
  {
   "cell_type": "code",
   "execution_count": null,
   "metadata": {},
   "outputs": [],
   "source": []
  },
  {
   "cell_type": "code",
   "execution_count": null,
   "metadata": {},
   "outputs": [],
   "source": []
  }
 ],
 "metadata": {
  "kernelspec": {
   "display_name": "Python 3",
   "language": "python",
   "name": "python3"
  },
  "language_info": {
   "codemirror_mode": {
    "name": "ipython",
    "version": 3
   },
   "file_extension": ".py",
   "mimetype": "text/x-python",
   "name": "python",
   "nbconvert_exporter": "python",
   "pygments_lexer": "ipython3",
   "version": "3.7.0"
  }
 },
 "nbformat": 4,
 "nbformat_minor": 2
}
