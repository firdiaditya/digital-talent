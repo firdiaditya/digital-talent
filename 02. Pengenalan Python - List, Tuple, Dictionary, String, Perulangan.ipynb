{
 "cells": [
  {
   "cell_type": "markdown",
   "metadata": {},
   "source": [
    "## 1. Perulangan / Looping\n",
    "Sintaks yang digunakan untuk menjalankan sebuah kode program secara berulang kali hingga step yang ditentukan"
   ]
  },
  {
   "cell_type": "code",
   "execution_count": 4,
   "metadata": {},
   "outputs": [
    {
     "name": "stdout",
     "output_type": "stream",
     "text": [
      "0 = 0\n",
      "2 = 4\n",
      "4 = 16\n",
      "6 = 36\n",
      "8 = 64\n"
     ]
    }
   ],
   "source": [
    "#sintaks for\n",
    "# range(start,end,step)\n",
    "for i in range (0,10,2):\n",
    "    print(i, \"=\", i**2)"
   ]
  },
  {
   "cell_type": "code",
   "execution_count": 7,
   "metadata": {},
   "outputs": [
    {
     "name": "stdout",
     "output_type": "stream",
     "text": [
      "0\n",
      "1\n",
      "2\n",
      "3\n",
      "4\n",
      "5\n",
      "6\n",
      "7\n",
      "8\n",
      "9\n"
     ]
    }
   ],
   "source": [
    "#sintaks While\n",
    "i = 0 \n",
    "while i<10:\n",
    "    print(i)\n",
    "    i = i + 1"
   ]
  },
  {
   "cell_type": "markdown",
   "metadata": {},
   "source": [
    "## 2. List\n",
    "Tipe data yang digunakan untuk menyimpan beberapa nilai dalam satu variabel"
   ]
  },
  {
   "cell_type": "code",
   "execution_count": 12,
   "metadata": {},
   "outputs": [
    {
     "name": "stdout",
     "output_type": "stream",
     "text": [
      "[50, 40, 30, 60, 80, 70, 90]\n",
      "['Ani', 'Budi', 'Catra', 'Desi']\n",
      "['Big', 2.5, 12, 'Data']\n"
     ]
    }
   ],
   "source": [
    "#Deklasrasi List\n",
    "\n",
    "#Dapat berisi angka\n",
    "nilai = [50, 40, 30, 60,80,70, 90]\n",
    "print (nilai)\n",
    "\n",
    "#Dapat berisi string\n",
    "peserta = ['Ani','Budi','Catra','Desi']\n",
    "print(peserta)\n",
    "\n",
    "#Dapat berisi campuran\n",
    "campuran = ['Big', 2.5, 12, 'Data']\n",
    "print(campuran)"
   ]
  },
  {
   "cell_type": "markdown",
   "metadata": {},
   "source": [
    "### 2.1 List Index\n",
    "Untuk mengakses elemen tertentu di dalam list, kita dapat menggunakan list index. Index list dimulai dari 0. Index di dalam python juga dapat dibuat negatif, yang artinya index akan ditelusuri dari belakang"
   ]
  },
  {
   "cell_type": "code",
   "execution_count": 14,
   "metadata": {},
   "outputs": [
    {
     "name": "stdout",
     "output_type": "stream",
     "text": [
      "50\n",
      "80\n",
      "Catra\n"
     ]
    }
   ],
   "source": [
    "print(nilai[0])\n",
    "print(nilai[4])\n",
    "print(peserta[-2])"
   ]
  },
  {
   "cell_type": "markdown",
   "metadata": {},
   "source": [
    "### 2.2 Menambah Elemen ke Dalam List"
   ]
  },
  {
   "cell_type": "code",
   "execution_count": 15,
   "metadata": {},
   "outputs": [
    {
     "name": "stdout",
     "output_type": "stream",
     "text": [
      "[50, 40, 30, 60, 80, 70, 90, 27]\n"
     ]
    }
   ],
   "source": [
    "nilai.append(27)\n",
    "print(nilai)"
   ]
  },
  {
   "cell_type": "code",
   "execution_count": 17,
   "metadata": {},
   "outputs": [
    {
     "name": "stdout",
     "output_type": "stream",
     "text": [
      "['Ani', 'Budi', 'Catra', 'Desi', 'Aditya', 'Aditya']\n"
     ]
    }
   ],
   "source": [
    "peserta.append('Aditya')\n",
    "print(peserta)"
   ]
  },
  {
   "cell_type": "markdown",
   "metadata": {},
   "source": [
    "### 2.3 Slicing List\n",
    "Slicing digunakan untuk memilih beberapa kelompok nilai dari list dengan memanfaatkan range index"
   ]
  },
  {
   "cell_type": "code",
   "execution_count": 20,
   "metadata": {},
   "outputs": [
    {
     "name": "stdout",
     "output_type": "stream",
     "text": [
      "[30, 60, 80]\n",
      "[50, 40, 30]\n",
      "[70, 90, 27]\n",
      "[50, 40, 30, 60, 80, 70, 90, 27]\n"
     ]
    }
   ],
   "source": [
    "#print(\"namavariabel\"[\"nilai awal\":\"nilai akhir\"])\n",
    "\n",
    "# elemen ke 3 sampai ke 5 \n",
    "print(nilai[2:5])\n",
    "\n",
    "# diambil dari elemen pertama sampai ke 5 yg diambil dari belakang\n",
    "print(nilai[:-5])\n",
    "\n",
    "#diambil dari elemen pertama sampai ke 5 yg diambil dari depan\n",
    "print(nilai[5:])\n",
    "\n",
    "#dari awal sampai akhir\n",
    "print(nilai[:])"
   ]
  },
  {
   "cell_type": "markdown",
   "metadata": {},
   "source": [
    "### 2.4 Perulangan dalam List\n",
    "Dalam mengakses setiap elemen dalam list, kita dapat menggunakan sintaks perulangan for yang telah kita pelajari sebelumnya"
   ]
  },
  {
   "cell_type": "code",
   "execution_count": 27,
   "metadata": {},
   "outputs": [
    {
     "name": "stdout",
     "output_type": "stream",
     "text": [
      "2500\n",
      "1600\n",
      "900\n",
      "3600\n",
      "6400\n",
      "4900\n",
      "8100\n",
      "729\n",
      "0 50\n",
      "1 40\n",
      "2 30\n",
      "3 60\n",
      "4 80\n",
      "5 70\n",
      "6 90\n",
      "7 27\n"
     ]
    }
   ],
   "source": [
    "for n in nilai:\n",
    "    print(n**2)\n",
    "    \n",
    "#menampilkan indeks nya\n",
    "for i,n in enumerate(nilai):\n",
    "    print(i,n)"
   ]
  },
  {
   "cell_type": "markdown",
   "metadata": {},
   "source": [
    "##### Contoh\n",
    "Berapakah rata-rata nilai dari list tersebut?"
   ]
  },
  {
   "cell_type": "code",
   "execution_count": 31,
   "metadata": {},
   "outputs": [
    {
     "name": "stdout",
     "output_type": "stream",
     "text": [
      "447\n",
      "[50, 40, 30, 60, 80, 70, 90, 27]\n",
      "55.875\n"
     ]
    }
   ],
   "source": [
    "#ALGORITMA RATA-RATA\n",
    "\n",
    "total = 0\n",
    "for n in nilai:\n",
    "    total = total + n\n",
    "    \n",
    "rata = total / len(nilai)\n",
    "print(total)\n",
    "print(nilai)\n",
    "print(rata)"
   ]
  },
  {
   "cell_type": "markdown",
   "metadata": {},
   "source": [
    "#### Lookup Nilai dalam List"
   ]
  },
  {
   "cell_type": "code",
   "execution_count": 33,
   "metadata": {},
   "outputs": [
    {
     "name": "stdout",
     "output_type": "stream",
     "text": [
      "90 ada dalam list\n"
     ]
    }
   ],
   "source": [
    "n = 90\n",
    "if n in nilai:\n",
    "    print(n, \"ada dalam list\")\n",
    "else:\n",
    "    print(n, \"tidak ada dalam list\")"
   ]
  },
  {
   "cell_type": "markdown",
   "metadata": {},
   "source": [
    "### 2.5 Latihan\n",
    "Tampilkan Nilai yang Lebih dari sama dengan rata-ratanya"
   ]
  },
  {
   "cell_type": "code",
   "execution_count": 42,
   "metadata": {},
   "outputs": [
    {
     "name": "stdout",
     "output_type": "stream",
     "text": [
      "55.875\n",
      "60\n",
      "80\n",
      "70\n",
      "90\n"
     ]
    }
   ],
   "source": [
    "print(rata)\n",
    "for n in nilai:\n",
    "    if n>=rata:\n",
    "        print(n)\n"
   ]
  },
  {
   "cell_type": "markdown",
   "metadata": {},
   "source": [
    "## 3. Tuple\n",
    "Tuple merupakan tipe data yang mirip dengan list, namun berifat immutable atau tidak dapat ditambah dan diubah nilainya. Keuntungan dari penggunaan tuple adalah, pengaksesan datanya lebih cepat.\n",
    "\n"
   ]
  },
  {
   "cell_type": "code",
   "execution_count": 43,
   "metadata": {},
   "outputs": [
    {
     "name": "stdout",
     "output_type": "stream",
     "text": [
      "('Januari', 'Februari', 'Maret', 'April', 'Mei', 'Juni', 'Juli', 'Agustus', 'September', 'Oktober', 'November', 'Desember')\n"
     ]
    }
   ],
   "source": [
    "bulan = (\"Januari\",\"Februari\",\"Maret\", \"April\", \"Mei\", \"Juni\", \"Juli\", \"Agustus\", \"September\", \"Oktober\", \"November\", \"Desember\")\n",
    "print(bulan)"
   ]
  },
  {
   "cell_type": "code",
   "execution_count": null,
   "metadata": {},
   "outputs": [],
   "source": []
  },
  {
   "cell_type": "code",
   "execution_count": null,
   "metadata": {},
   "outputs": [],
   "source": []
  },
  {
   "cell_type": "code",
   "execution_count": null,
   "metadata": {},
   "outputs": [],
   "source": []
  },
  {
   "cell_type": "markdown",
   "metadata": {},
   "source": [
    "## 4. Dictionary\n",
    "Dictionary dalam Python berbeda dengan List ataupun Tuple. Karena setiap urutanya berisi key dan value. Setiap key dipisahkan dari value-nya oleh titik dua (:), item dipisahkan oleh koma, dan semuanya tertutup dalam kurung kurawal. Dictionary kosong tanpa barang ditulis hanya dengan dua kurung kurawal, seperti ini: {}.\n",
    "\n",
    "### 4.1 Membuat dan Mengakses Dictionary"
   ]
  },
  {
   "cell_type": "code",
   "execution_count": 58,
   "metadata": {},
   "outputs": [
    {
     "name": "stdout",
     "output_type": "stream",
     "text": [
      "{'Nama': 'Ani', 'Umur': 14, 'JenisKelamin': 'Perempuan'}\n",
      "Budi\n",
      "14\n",
      "Perempuan\n",
      "[{'Nama': 'Budi', 'Umur': 15, 'JenisKelamin': 'Laki-laki'}, {'Nama': 'Ani', 'Umur': 14, 'JenisKelamin': 'Perempuan'}]\n",
      "{'Nama': 'Ani', 'Umur': 14, 'JenisKelamin': 'Perempuan'}\n"
     ]
    }
   ],
   "source": [
    "siswa1 = {'Nama': 'Budi', 'Umur':15, 'JenisKelamin': 'Laki-laki' }\n",
    "siswa2 = {'Nama': 'Ani', 'Umur':14, 'JenisKelamin': 'Perempuan' }\n",
    "\n",
    "print(siswa2)\n",
    "print(siswa1['Nama'])\n",
    "print(siswa2['Umur'])\n",
    "print(siswa2['JenisKelamin'])\n",
    "\n",
    "list_siswa = []\n",
    "list_siswa.append(siswa1)\n",
    "list_siswa.append(siswa2)\n",
    "print(list_siswa)\n",
    "print(list_siswa[1])"
   ]
  },
  {
   "cell_type": "markdown",
   "metadata": {},
   "source": [
    "### 4.2 Mengubah nilai Dictionary"
   ]
  },
  {
   "cell_type": "code",
   "execution_count": 61,
   "metadata": {},
   "outputs": [
    {
     "name": "stdout",
     "output_type": "stream",
     "text": [
      "{'Nama': 'Lia', 'Umur': 14, 'JenisKelamin': 'Perempuan'}\n"
     ]
    }
   ],
   "source": [
    "siswa2['Nama']='Lia'\n",
    "print(siswa2)"
   ]
  },
  {
   "cell_type": "markdown",
   "metadata": {},
   "source": [
    "### 4.3 Menambahkan Elemen"
   ]
  },
  {
   "cell_type": "code",
   "execution_count": 62,
   "metadata": {},
   "outputs": [
    {
     "name": "stdout",
     "output_type": "stream",
     "text": [
      "{'Nama': 'Budi', 'Umur': 15, 'JenisKelamin': 'Laki-laki', 'Alamat': 'Jl. Kaliurang KM 5'}\n"
     ]
    }
   ],
   "source": [
    "siswa1['Alamat'] = \"Jl. Kaliurang KM 5\"\n",
    "print(siswa1)"
   ]
  },
  {
   "cell_type": "code",
   "execution_count": 77,
   "metadata": {},
   "outputs": [
    {
     "name": "stdout",
     "output_type": "stream",
     "text": [
      "{'Nama': 'Budi', 'Umur': 15, 'JenisKelamin': 'Laki-laki', 'Alamat': 'Jl. Kaliurang KM 5', 'Nilai': [50, 40, 30, 60, 80, 70, 90, 27]}\n",
      "50\n",
      "40\n",
      "30\n",
      "60\n",
      "80\n",
      "70\n",
      "90\n",
      "27\n",
      "Nama Budi\n",
      "Umur 15\n",
      "JenisKelamin Laki-laki\n",
      "Nilai [50, 40, 30, 60, 80, 70, 90, 27]\n",
      "=======\n",
      "Nama Lia\n",
      "Umur 14\n",
      "JenisKelamin Perempuan\n",
      "=======\n",
      "Nama Lia\n",
      "Umur 14\n",
      "JenisKelamin Perempuan\n"
     ]
    }
   ],
   "source": [
    "# List sebagai nilai dari elemen Dictionary\n",
    "siswa1[\"Nilai\"] = nilai\n",
    "print(siswa1)\n",
    "\n",
    "#menampilkan nilai dari dictinary tersebut\n",
    "for n in siswa[\"Nilai\"]:\n",
    "    print(n)\n",
    "    \n",
    "#menampilkan indeks dari dictionary\n",
    "for k,v in siswa.items():\n",
    "    print(k,v)\n",
    "    \n",
    "for l in list_siswa:\n",
    "    print(\"=======\")\n",
    "    for k,v in siswa2.items():\n",
    "        print(k,v)\n"
   ]
  },
  {
   "cell_type": "markdown",
   "metadata": {},
   "source": [
    "## 5. Operasi String\n",
    "Pada pertemuan sebelumnya telah dijelaskan mengenai string. Dalam python cukup banyak operasi yang dikenakan pada string, yang akan berguna dalam analisis data.\n",
    "\n",
    "### 5.1 Slicing dan Akses per Karakter"
   ]
  },
  {
   "cell_type": "code",
   "execution_count": 69,
   "metadata": {},
   "outputs": [
    {
     "name": "stdout",
     "output_type": "stream",
     "text": [
      "Tutori\n",
      "ograman Py\n"
     ]
    }
   ],
   "source": [
    "nama = \"Tutorial Bahasa Pemrograman Python\"\n",
    "print(nama[0:6])\n",
    "print(nama[20:30])"
   ]
  },
  {
   "cell_type": "markdown",
   "metadata": {},
   "source": [
    "### 5.2 Merubah String menjadi list Kata\n",
    "Menggunakan fungsi split. Fungsi split dapat diberikan parameter berupa karakter pemisahnya. Jika tidak diberikan parameter maka secara default, pemisahnya adalah spasi."
   ]
  },
  {
   "cell_type": "code",
   "execution_count": 87,
   "metadata": {},
   "outputs": [
    {
     "name": "stdout",
     "output_type": "stream",
     "text": [
      "['Tutorial', 'Bahasa', 'Pemrograman', 'Python']\n",
      "Tutorial\n",
      "Pemrograman\n",
      "['Pada hari minggu kuturut ayah ke kota', ' Naik Delman istimewa kududuk di muka', ' Duduk disamping pak kusir yang sedang bekerja']\n",
      " Duduk disamping pak kusir yang sedang bekerja\n"
     ]
    }
   ],
   "source": [
    "kata = nama.split()\n",
    "print(kata)\n",
    "print(kata[0])\n",
    "print(kata[2])\n",
    "\n",
    "\n",
    "paragraf = \"Pada hari minggu kuturut ayah ke kota. Naik Delman istimewa kududuk di muka. Duduk disamping pak kusir yang sedang bekerja\"\n",
    "kalimat = paragraf.split(\".\")\n",
    "print(kalimat)\n",
    "print(kalimat[2])\n"
   ]
  },
  {
   "cell_type": "markdown",
   "metadata": {},
   "source": [
    "### 5.3 Pencarian kata dalam String"
   ]
  },
  {
   "cell_type": "code",
   "execution_count": 80,
   "metadata": {},
   "outputs": [
    {
     "name": "stdout",
     "output_type": "stream",
     "text": [
      "Found!\n"
     ]
    }
   ],
   "source": [
    "cari = 'Python'\n",
    "if cari in nama:\n",
    "    print(\"Found!\")\n",
    "else:\n",
    "    print(\"Not Found!\")"
   ]
  },
  {
   "cell_type": "markdown",
   "metadata": {},
   "source": [
    "### 5.4 Replace String"
   ]
  },
  {
   "cell_type": "code",
   "execution_count": 81,
   "metadata": {},
   "outputs": [
    {
     "name": "stdout",
     "output_type": "stream",
     "text": [
      "Pada hari senin kuturut ibu ke kota. Naik Delman istimewa kududuk di muka. Duduk disamping pak kusir yang sedang bekerja\n"
     ]
    }
   ],
   "source": [
    "paragraf = \"Pada hari minggu kuturut ayah ke kota. Naik Delman istimewa kududuk di muka. Duduk disamping pak kusir yang sedang bekerja\"\n",
    "paragraf = paragraf.replace('minggu','senin')\n",
    "paragraf = paragraf.replace('ayah','ibu')\n",
    "print(paragraf)"
   ]
  },
  {
   "cell_type": "markdown",
   "metadata": {},
   "source": [
    "### 5.5 Panjang String, Lowercase, Uppercase"
   ]
  },
  {
   "cell_type": "code",
   "execution_count": 88,
   "metadata": {},
   "outputs": [
    {
     "name": "stdout",
     "output_type": "stream",
     "text": [
      "34\n",
      "TUTORIAL BAHASA PEMROGRAMAN PYTHON\n",
      "tutorial bahasa pemrograman python\n"
     ]
    }
   ],
   "source": [
    "print(len(nama))\n",
    "print(nama.upper())\n",
    "print(nama.lower())"
   ]
  },
  {
   "cell_type": "markdown",
   "metadata": {},
   "source": [
    "### LATIHAN 2\n",
    "Diberikan sekumpulan Nilai Random antara 0 sampai dengan 100 sebanyak 250 nilai. Buatlah program untuk melakukan hal berikut:\n",
    "\n",
    "1. Tampilkan Angka Ganjil dari ke 50 nilai tersebut\n",
    "2. Tampilkan berapa banyak yang mendapatkan nilai lebih dari 70\n",
    "3. Tampilkan standar deviasi dari sekumpulan nilai tersebut\n",
    "4. Tampilkan nilai maksimum dan minimum\n",
    "5. Tampilkan modus dari sekumpulan nilai tersebut"
   ]
  },
  {
   "cell_type": "code",
   "execution_count": null,
   "metadata": {},
   "outputs": [],
   "source": [
    "import random\n",
    "\n",
    "# GENERATE RANDOM\n",
    "nilaiTugas = []\n",
    "for i in range(250):\n",
    "    nilaiTugas.append(random.randrange(1,100,1))\n",
    "\n",
    "print(nilaiTugas)\n",
    "\n",
    "# TAMPILKAN:\n",
    "# ganjil\n",
    "# nilai > 70\n",
    "# standar deviasi\n",
    "# maksimum\n",
    "# minimum\n",
    "# modus"
   ]
  },
  {
   "cell_type": "markdown",
   "metadata": {},
   "source": [
    "### LATIHAN 3 - Word Count\n",
    "Diberikan sebuah paragraf, hitunglah banyak kemunculan masing-masing kata. Contoh : \"Presiden pagi ini melakukan kunjungan ke Jogja\"\n",
    "\n",
    "     Presiden: 1\n",
    "     pagi: 1\n",
    "     ini: 1\n",
    "     melakukan: 1\n",
    "     kunjungan: 1\n",
    "     ke: 1\n",
    "     Jogja: 1\n",
    "\n",
    "hints: Gunakan Dictionary dalam menyimpan word count. Gunakan kata sebagai key, dan jumlah kemunculan sebagai value"
   ]
  },
  {
   "cell_type": "code",
   "execution_count": null,
   "metadata": {},
   "outputs": [],
   "source": [
    "paragraf = \"Barcelona berhasil merebut posisi puncak klasemen La Liga Spanyol seusai menang 4-2 atas Sevilla pada pertandingan pekan kesembilan di Stadion Camp Nou, Sabtu (20/10/2018) atau Minggu dini hari WIB. Barcelona membuka keunggulan pada menit ke-2 melalui gol yang dicetak oleh Philippe Coutinho. Lionel Messi menggandakan keunggulan Barcelona, 10 menit berselang.  Namun, nahas bagi Barcelona, karena Messi harus ditarik keluar pada menit ke-26 setelah mengalami cedera. Tanpa Messi, skor 2-0 bertahan hingga babak pertama berakhir.\"\n",
    "print(paragraf)"
   ]
  }
 ],
 "metadata": {
  "kernelspec": {
   "display_name": "Python 3",
   "language": "python",
   "name": "python3"
  },
  "language_info": {
   "codemirror_mode": {
    "name": "ipython",
    "version": 3
   },
   "file_extension": ".py",
   "mimetype": "text/x-python",
   "name": "python",
   "nbconvert_exporter": "python",
   "pygments_lexer": "ipython3",
   "version": "3.7.0"
  }
 },
 "nbformat": 4,
 "nbformat_minor": 2
}
