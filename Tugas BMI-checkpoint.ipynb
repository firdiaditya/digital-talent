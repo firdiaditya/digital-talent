{
 "cells": [
  {
   "cell_type": "markdown",
   "metadata": {},
   "source": [
    "## TUGAS \n",
    "#### Calculator BMI\n",
    "\n",
    "Body Mass Index (BMI) menentukan sebuah keidealan berat badan terhadap tinggi badan. Berikut adalah formula dari BMI : BMI = weight (kg) ÷ height^2 (m^2)\n",
    "\n",
    "Berikut adalah kategorisasi BMI\n",
    "\n",
    "BMI Kategori BMI\n",
    "Kurang dari 15 Very severely underweight\n",
    "Diantara 15 dan 16 Severely underweight\n",
    "Diantara 16 dan 18.5 Underweight\n",
    "Diantara 18.5 dan 25 Normal (healthy weight)\n",
    "Diantara 25 dan 30 Overweight\n",
    "Diantara 30 dan 35 Moderately obese\n",
    "Diantara 35 dan 40 Severely obese\n",
    "Over 40 Very severely obese\n",
    "\n",
    "Buatlah sebuah program yang memiliki dua variabel berat badan dengan satuan KG, dan tinggi badan dengan satuan CM, kemudian keluaran dari program adalah Kategori BMI"
   ]
  },
  {
   "cell_type": "code",
   "execution_count": 1,
   "metadata": {},
   "outputs": [
    {
     "name": "stdout",
     "output_type": "stream",
     "text": [
      "Berat badan anda 80 kg\n",
      "Tinggi badan anda 174 cm\n",
      "Nilai BMI Anda adalah :  26.42356982428326\n",
      "Anda termasuk kategori Overweight\n"
     ]
    }
   ],
   "source": [
    "weight = 80   # Masukan nilai nya\n",
    "height = 174  # Masukan nilai nya\n",
    "\n",
    "BMI = weight / ((height/100) ** 2)\n",
    "\n",
    "print (\"Berat badan anda\", weight, \"kg\")\n",
    "print (\"Tinggi badan anda\", height, \"cm\")\n",
    "print (\"Nilai BMI Anda adalah : \", BMI)\n",
    "\n",
    "if BMI < 15:\n",
    "        print(\"Anda termasuk kategori\", \"Very severely underweight\")\n",
    "elif 15 <= BMI < 16:\n",
    "        print(\"Anda termasuk kategori\", \"Severely underweight\")\n",
    "elif 16 <= BMI < 18.5:\n",
    "        print(\"Anda termasuk kategori\", \"Underweight\")\n",
    "elif 18.5 <= BMI < 25:\n",
    "        print(\"Anda termasuk kategori\", \"Normal (healthy weight)\")\n",
    "elif 25 <= BMI < 30:\n",
    "        print(\"Anda termasuk kategori\", \"Overweight\")\n",
    "elif 30 <= BMI < 35:\n",
    "        print(\"Anda termasuk kategori\", \"Moderately obese\")\n",
    "elif 35 <= BMI < 40:\n",
    "        print(\"Anda termasuk kategori\", \"Severely obese\")\n",
    "else: \n",
    "        print(\"Anda termasuk kategori\", \"Very severely obese\")\n"
   ]
  },
  {
   "cell_type": "code",
   "execution_count": null,
   "metadata": {},
   "outputs": [],
   "source": []
  }
 ],
 "metadata": {
  "kernelspec": {
   "display_name": "Python 3",
   "language": "python",
   "name": "python3"
  },
  "language_info": {
   "codemirror_mode": {
    "name": "ipython",
    "version": 3
   },
   "file_extension": ".py",
   "mimetype": "text/x-python",
   "name": "python",
   "nbconvert_exporter": "python",
   "pygments_lexer": "ipython3",
   "version": "3.7.0"
  }
 },
 "nbformat": 4,
 "nbformat_minor": 2
}
