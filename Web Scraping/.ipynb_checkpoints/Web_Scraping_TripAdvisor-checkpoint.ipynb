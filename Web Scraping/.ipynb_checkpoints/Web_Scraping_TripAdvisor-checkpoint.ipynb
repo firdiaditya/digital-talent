{
 "cells": [
  {
   "cell_type": "code",
   "execution_count": 5,
   "metadata": {},
   "outputs": [
    {
     "name": "stdout",
     "output_type": "stream",
     "text": [
      "https://www.tripadvisor.co.id/Hotel_Review-g294230-d13229706-Reviews-Artotel_Yogyakarta-Yogyakarta_Java.html\n",
      "<class 'bytes'>\n",
      "b'!DOCTYPE html><html lang=\"id\" xmlns:og=\"http://opengraphprotocol.org/schema/\"><head><meta http-equi'\n"
     ]
    }
   ],
   "source": [
    "import urllib\n",
    "\n",
    "REVIEW_URL = \"https://www.tripadvisor.co.id/Hotel_Review-g294230-d13229706-Reviews-Artotel_Yogyakarta-Yogyakarta_Java.html\"\n",
    "\n",
    "print(REVIEW_URL)\n",
    "\n",
    "r = urllib.request.urlopen(REVIEW_URL).read()\n",
    "print(type(r))\n",
    "print(r[1:100])"
   ]
  },
  {
   "cell_type": "code",
   "execution_count": 6,
   "metadata": {},
   "outputs": [
    {
     "name": "stdout",
     "output_type": "stream",
     "text": [
      "<class 'bs4.BeautifulSoup'>\n",
      "!DOCTYPE html>\n",
      "<html lang=\"id\" xmlns:og=\"http://opengraphprotocol.org/schema/\">\n",
      " <head>\n",
      "  <meta con\n"
     ]
    }
   ],
   "source": [
    "from bs4 import BeautifulSoup \n",
    "\n",
    "soup = BeautifulSoup(r,\"lxml\")\n",
    "print(type(soup))\n",
    "print(soup.prettify()[1:100])"
   ]
  },
  {
   "cell_type": "code",
   "execution_count": 7,
   "metadata": {},
   "outputs": [
    {
     "name": "stdout",
     "output_type": "stream",
     "text": [
      "5\n"
     ]
    }
   ],
   "source": [
    "reviews = []\n",
    "\n",
    "i = 0\n",
    "for review in soup.find_all(\"div\",\"reviewSelector\"):\n",
    "    rating = review.find(\"span\",\"ui_bubble_rating\").get(\"class\")[1].split(\"_\")[1][0] #lol\n",
    "    entry = review.find(\"span\",\"noQuotes\").text\n",
    "    reviews.append([rating, entry])\n",
    "    \n",
    "print(len(reviews))"
   ]
  },
  {
   "cell_type": "code",
   "execution_count": 8,
   "metadata": {},
   "outputs": [],
   "source": [
    "import csv\n",
    "\n",
    "with open('data_review.csv', 'w') as f:\n",
    "    writer = csv.writer(f)\n",
    "    writer.writerows(reviews)"
   ]
  },
  {
   "cell_type": "code",
   "execution_count": null,
   "metadata": {},
   "outputs": [],
   "source": []
  }
 ],
 "metadata": {
  "kernelspec": {
   "display_name": "Python 3",
   "language": "python",
   "name": "python3"
  },
  "language_info": {
   "codemirror_mode": {
    "name": "ipython",
    "version": 3
   },
   "file_extension": ".py",
   "mimetype": "text/x-python",
   "name": "python",
   "nbconvert_exporter": "python",
   "pygments_lexer": "ipython3",
   "version": "3.7.0"
  }
 },
 "nbformat": 4,
 "nbformat_minor": 2
}
