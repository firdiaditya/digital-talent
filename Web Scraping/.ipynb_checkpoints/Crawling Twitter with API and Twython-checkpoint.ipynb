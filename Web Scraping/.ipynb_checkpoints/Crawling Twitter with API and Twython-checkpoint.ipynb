{
 "cells": [
  {
   "cell_type": "markdown",
   "metadata": {},
   "source": [
    "### Import Library dan API Token\n",
    "Meng-import semua library yang dibutuhkan.\n",
    "\n",
    "Pada script ini, yang API connector diguanakan adalah Twython.\n",
    "\n",
    "Seluruh key dapat diperoleh di https://apps.twitter.com/"
   ]
  },
  {
   "cell_type": "code",
   "execution_count": 1,
   "metadata": {},
   "outputs": [],
   "source": [
    "from twython import Twython\n",
    "import json"
   ]
  },
  {
   "cell_type": "code",
   "execution_count": 2,
   "metadata": {},
   "outputs": [],
   "source": [
    "TWITTER_APP_KEY = 'App Key'\n",
    "TWITTER_APP_KEY_SECRET = 'App Key Secret' \n",
    "TWITTER_ACCESS_TOKEN = 'Access Token'\n",
    "TWITTER_ACCESS_TOKEN_SECRET = 'Access Token Secret'\n",
    "\n",
    "t = Twython(app_key=TWITTER_APP_KEY, \n",
    "            app_secret=TWITTER_APP_KEY_SECRET, \n",
    "            oauth_token=TWITTER_ACCESS_TOKEN, \n",
    "            oauth_token_secret=TWITTER_ACCESS_TOKEN_SECRET)"
   ]
  },
  {
   "cell_type": "markdown",
   "metadata": {},
   "source": [
    "### Melakukan searching dengan Twitter API"
   ]
  },
  {
   "cell_type": "code",
   "execution_count": 3,
   "metadata": {},
   "outputs": [],
   "source": [
    "term = 'Presiden'\n",
    "tweet_metadatas = t.search(q=term,count=100,result_type='recent')"
   ]
  },
  {
   "cell_type": "markdown",
   "metadata": {},
   "source": [
    "### Mengambil salah satu tweet sebagai JSON"
   ]
  },
  {
   "cell_type": "code",
   "execution_count": 4,
   "metadata": {},
   "outputs": [
    {
     "name": "stdout",
     "output_type": "stream",
     "text": [
      "{'created_at': 'Wed Oct 31 06:57:11 +0000 2018', 'id': 1057526882617450497, 'id_str': '1057526882617450497', 'text': 'RT @KSPgoid: 1. Selasa malam, Presiden @jokowi blusukan ke Pasar Bogor yang berlokasi di Jalan Roda, Kota Bogor. Blusukan ke pasar tradisio…', 'truncated': False, 'entities': {'hashtags': [], 'symbols': [], 'user_mentions': [{'screen_name': 'KSPgoid', 'name': 'Kantor Staf Presiden', 'id': 772689620576395264, 'id_str': '772689620576395264', 'indices': [3, 11]}, {'screen_name': 'jokowi', 'name': 'Joko Widodo', 'id': 366987179, 'id_str': '366987179', 'indices': [39, 46]}], 'urls': []}, 'metadata': {'iso_language_code': 'in', 'result_type': 'recent'}, 'source': '<a href=\"http://twitter.com/download/android\" rel=\"nofollow\">Twitter for Android</a>', 'in_reply_to_status_id': None, 'in_reply_to_status_id_str': None, 'in_reply_to_user_id': None, 'in_reply_to_user_id_str': None, 'in_reply_to_screen_name': None, 'user': {'id': 1023802839590567936, 'id_str': '1023802839590567936', 'name': 'Agustaju', 'screen_name': 'Agustaju1', 'location': '', 'description': '', 'url': None, 'entities': {'description': {'urls': []}}, 'protected': False, 'followers_count': 14, 'friends_count': 205, 'listed_count': 0, 'created_at': 'Mon Jul 30 05:29:53 +0000 2018', 'favourites_count': 634, 'utc_offset': None, 'time_zone': None, 'geo_enabled': False, 'verified': False, 'statuses_count': 380, 'lang': 'id', 'contributors_enabled': False, 'is_translator': False, 'is_translation_enabled': False, 'profile_background_color': 'F5F8FA', 'profile_background_image_url': None, 'profile_background_image_url_https': None, 'profile_background_tile': False, 'profile_image_url': 'http://pbs.twimg.com/profile_images/1043159652618264577/x9LUjwo__normal.jpg', 'profile_image_url_https': 'https://pbs.twimg.com/profile_images/1043159652618264577/x9LUjwo__normal.jpg', 'profile_link_color': '1DA1F2', 'profile_sidebar_border_color': 'C0DEED', 'profile_sidebar_fill_color': 'DDEEF6', 'profile_text_color': '333333', 'profile_use_background_image': True, 'has_extended_profile': True, 'default_profile': True, 'default_profile_image': False, 'following': False, 'follow_request_sent': False, 'notifications': False, 'translator_type': 'none'}, 'geo': None, 'coordinates': None, 'place': None, 'contributors': None, 'retweeted_status': {'created_at': 'Wed Oct 31 04:49:55 +0000 2018', 'id': 1057494857084821504, 'id_str': '1057494857084821504', 'text': '1. Selasa malam, Presiden @jokowi blusukan ke Pasar Bogor yang berlokasi di Jalan Roda, Kota Bogor. Blusukan ke pas… https://t.co/ejgddiasiV', 'truncated': True, 'entities': {'hashtags': [], 'symbols': [], 'user_mentions': [{'screen_name': 'jokowi', 'name': 'Joko Widodo', 'id': 366987179, 'id_str': '366987179', 'indices': [26, 33]}], 'urls': [{'url': 'https://t.co/ejgddiasiV', 'expanded_url': 'https://twitter.com/i/web/status/1057494857084821504', 'display_url': 'twitter.com/i/web/status/1…', 'indices': [117, 140]}]}, 'metadata': {'iso_language_code': 'in', 'result_type': 'recent'}, 'source': '<a href=\"http://twitter.com\" rel=\"nofollow\">Twitter Web Client</a>', 'in_reply_to_status_id': None, 'in_reply_to_status_id_str': None, 'in_reply_to_user_id': None, 'in_reply_to_user_id_str': None, 'in_reply_to_screen_name': None, 'user': {'id': 772689620576395264, 'id_str': '772689620576395264', 'name': 'Kantor Staf Presiden', 'screen_name': 'KSPgoid', 'location': 'Republik Indonesia', 'description': 'Akun Twitter Resmi Kantor Staf Presiden', 'url': 'https://t.co/Huf1XvK9Ip', 'entities': {'url': {'urls': [{'url': 'https://t.co/Huf1XvK9Ip', 'expanded_url': 'http://ksp.go.id', 'display_url': 'ksp.go.id', 'indices': [0, 23]}]}, 'description': {'urls': []}}, 'protected': False, 'followers_count': 74587, 'friends_count': 125, 'listed_count': 116, 'created_at': 'Mon Sep 05 06:55:36 +0000 2016', 'favourites_count': 10, 'utc_offset': None, 'time_zone': None, 'geo_enabled': True, 'verified': True, 'statuses_count': 27595, 'lang': 'en', 'contributors_enabled': False, 'is_translator': False, 'is_translation_enabled': False, 'profile_background_color': '000000', 'profile_background_image_url': 'http://abs.twimg.com/images/themes/theme1/bg.png', 'profile_background_image_url_https': 'https://abs.twimg.com/images/themes/theme1/bg.png', 'profile_background_tile': False, 'profile_image_url': 'http://pbs.twimg.com/profile_images/779710578545655808/ZDa_-x6v_normal.jpg', 'profile_image_url_https': 'https://pbs.twimg.com/profile_images/779710578545655808/ZDa_-x6v_normal.jpg', 'profile_banner_url': 'https://pbs.twimg.com/profile_banners/772689620576395264/1536036264', 'profile_link_color': 'AA001C', 'profile_sidebar_border_color': '000000', 'profile_sidebar_fill_color': '000000', 'profile_text_color': '000000', 'profile_use_background_image': False, 'has_extended_profile': True, 'default_profile': False, 'default_profile_image': False, 'following': False, 'follow_request_sent': False, 'notifications': False, 'translator_type': 'none'}, 'geo': None, 'coordinates': None, 'place': None, 'contributors': None, 'is_quote_status': False, 'retweet_count': 10, 'favorite_count': 22, 'favorited': False, 'retweeted': False, 'possibly_sensitive': False, 'lang': 'in'}, 'is_quote_status': False, 'retweet_count': 10, 'favorite_count': 0, 'favorited': False, 'retweeted': False, 'lang': 'in'}\n"
     ]
    }
   ],
   "source": [
    "print(tweet_metadatas['statuses'][0])"
   ]
  },
  {
   "cell_type": "markdown",
   "metadata": {},
   "source": [
    "#### Mengambil isi tweet"
   ]
  },
  {
   "cell_type": "code",
   "execution_count": 5,
   "metadata": {},
   "outputs": [
    {
     "name": "stdout",
     "output_type": "stream",
     "text": [
      "RT @KSPgoid: 1. Selasa malam, Presiden @jokowi blusukan ke Pasar Bogor yang berlokasi di Jalan Roda, Kota Bogor. Blusukan ke pasar tradisio…\n"
     ]
    }
   ],
   "source": [
    "print(tweet_metadatas['statuses'][0]['text'])"
   ]
  },
  {
   "cell_type": "markdown",
   "metadata": {},
   "source": [
    "#### Mengambil username dari yang ngetweet"
   ]
  },
  {
   "cell_type": "code",
   "execution_count": 6,
   "metadata": {},
   "outputs": [
    {
     "name": "stdout",
     "output_type": "stream",
     "text": [
      "Agustaju1\n"
     ]
    }
   ],
   "source": [
    "print(tweet_metadatas['statuses'][0]['user']['screen_name'])"
   ]
  },
  {
   "cell_type": "markdown",
   "metadata": {},
   "source": [
    "#### Mendapatkan jumlah following dan follower"
   ]
  },
  {
   "cell_type": "code",
   "execution_count": 7,
   "metadata": {},
   "outputs": [
    {
     "name": "stdout",
     "output_type": "stream",
     "text": [
      "205 14\n"
     ]
    }
   ],
   "source": [
    "print(tweet_metadatas['statuses'][0]['user']['friends_count'],tweet_metadatas['statuses'][0]['user']['followers_count'],)"
   ]
  },
  {
   "cell_type": "markdown",
   "metadata": {},
   "source": [
    "### Menyimpan data pada Tabel\n",
    "Data yang akan disimpan adalah tweet dan siapa yg melakukan tweet\n",
    "\n",
    "Memasukkan data yang digunakan ke dalam list of dictionary"
   ]
  },
  {
   "cell_type": "code",
   "execution_count": 8,
   "metadata": {},
   "outputs": [],
   "source": [
    "data_list = []\n",
    "\n",
    "for tweet in tweet_metadatas['statuses']:\n",
    "    meta = dict()\n",
    "    meta['tweet'] = tweet['text']\n",
    "    meta['timestamp'] = tweet['created_at']\n",
    "    meta['username'] = tweet['user']['screen_name']\n",
    "    \n",
    "    data_list.append(meta)"
   ]
  },
  {
   "cell_type": "markdown",
   "metadata": {},
   "source": [
    "#### Membuat tabel untuk menyimpan data"
   ]
  },
  {
   "cell_type": "code",
   "execution_count": 9,
   "metadata": {},
   "outputs": [
    {
     "data": {
      "text/html": [
       "<div>\n",
       "<style scoped>\n",
       "    .dataframe tbody tr th:only-of-type {\n",
       "        vertical-align: middle;\n",
       "    }\n",
       "\n",
       "    .dataframe tbody tr th {\n",
       "        vertical-align: top;\n",
       "    }\n",
       "\n",
       "    .dataframe thead th {\n",
       "        text-align: right;\n",
       "    }\n",
       "</style>\n",
       "<table border=\"1\" class=\"dataframe\">\n",
       "  <thead>\n",
       "    <tr style=\"text-align: right;\">\n",
       "      <th></th>\n",
       "      <th>timestamp</th>\n",
       "      <th>tweet</th>\n",
       "      <th>username</th>\n",
       "    </tr>\n",
       "  </thead>\n",
       "  <tbody>\n",
       "    <tr>\n",
       "      <th>0</th>\n",
       "      <td>Wed Oct 31 06:57:11 +0000 2018</td>\n",
       "      <td>RT @KSPgoid: 1. Selasa malam, Presiden @jokowi...</td>\n",
       "      <td>Agustaju1</td>\n",
       "    </tr>\n",
       "    <tr>\n",
       "      <th>1</th>\n",
       "      <td>Wed Oct 31 06:57:10 +0000 2018</td>\n",
       "      <td>RT @SatgasDanaDesa: #Kawaldanadesa Pemerintaha...</td>\n",
       "      <td>abdulwahid_ola</td>\n",
       "    </tr>\n",
       "    <tr>\n",
       "      <th>2</th>\n",
       "      <td>Wed Oct 31 06:57:08 +0000 2018</td>\n",
       "      <td>@AhmadBeto pemain over takpa lagi, yg presiden...</td>\n",
       "      <td>xmierul_</td>\n",
       "    </tr>\n",
       "    <tr>\n",
       "      <th>3</th>\n",
       "      <td>Wed Oct 31 06:57:06 +0000 2018</td>\n",
       "      <td>RT @venniyaqr: @kaesangp @SangPisang2017 Anak ...</td>\n",
       "      <td>zuhrufun</td>\n",
       "    </tr>\n",
       "    <tr>\n",
       "      <th>4</th>\n",
       "      <td>Wed Oct 31 06:57:04 +0000 2018</td>\n",
       "      <td>RT @ekowBoy: Ya Allah.. Bangsaku..\\nPermasalah...</td>\n",
       "      <td>StalistS</td>\n",
       "    </tr>\n",
       "  </tbody>\n",
       "</table>\n",
       "</div>"
      ],
      "text/plain": [
       "                        timestamp  \\\n",
       "0  Wed Oct 31 06:57:11 +0000 2018   \n",
       "1  Wed Oct 31 06:57:10 +0000 2018   \n",
       "2  Wed Oct 31 06:57:08 +0000 2018   \n",
       "3  Wed Oct 31 06:57:06 +0000 2018   \n",
       "4  Wed Oct 31 06:57:04 +0000 2018   \n",
       "\n",
       "                                               tweet        username  \n",
       "0  RT @KSPgoid: 1. Selasa malam, Presiden @jokowi...       Agustaju1  \n",
       "1  RT @SatgasDanaDesa: #Kawaldanadesa Pemerintaha...  abdulwahid_ola  \n",
       "2  @AhmadBeto pemain over takpa lagi, yg presiden...        xmierul_  \n",
       "3  RT @venniyaqr: @kaesangp @SangPisang2017 Anak ...        zuhrufun  \n",
       "4  RT @ekowBoy: Ya Allah.. Bangsaku..\\nPermasalah...        StalistS  "
      ]
     },
     "execution_count": 9,
     "metadata": {},
     "output_type": "execute_result"
    }
   ],
   "source": [
    "import pandas as pd\n",
    "data = pd.DataFrame(data_list)\n",
    "data.head()"
   ]
  },
  {
   "cell_type": "markdown",
   "metadata": {},
   "source": [
    "#### Menyimpan ke dalam XLSX"
   ]
  },
  {
   "cell_type": "code",
   "execution_count": 10,
   "metadata": {},
   "outputs": [],
   "source": [
    "writer = pd.ExcelWriter('result.xlsx')\n",
    "data.to_excel(writer,'Sheet1',index=False)\n",
    "writer.save()"
   ]
  },
  {
   "cell_type": "markdown",
   "metadata": {},
   "source": [
    "#### Menyimpan ke CSV"
   ]
  },
  {
   "cell_type": "code",
   "execution_count": 11,
   "metadata": {},
   "outputs": [],
   "source": [
    "data.to_csv('result.csv',index=False)"
   ]
  },
  {
   "cell_type": "code",
   "execution_count": null,
   "metadata": {},
   "outputs": [],
   "source": []
  }
 ],
 "metadata": {
  "kernelspec": {
   "display_name": "Python 3",
   "language": "python",
   "name": "python3"
  },
  "language_info": {
   "codemirror_mode": {
    "name": "ipython",
    "version": 3
   },
   "file_extension": ".py",
   "mimetype": "text/x-python",
   "name": "python",
   "nbconvert_exporter": "python",
   "pygments_lexer": "ipython3",
   "version": "3.6.4"
  }
 },
 "nbformat": 4,
 "nbformat_minor": 2
}
